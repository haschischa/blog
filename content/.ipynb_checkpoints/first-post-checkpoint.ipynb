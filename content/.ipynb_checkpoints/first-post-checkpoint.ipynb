{
 "cells": [
  {
   "cell_type": "markdown",
   "metadata": {},
   "source": [
    "My first blog post! "
   ]
  }
 ],
 "metadata": {
  "kernelspec": {
   "display_name": "Python 3",
   "language": "python",
   "name": "python3"
  },
  "language_info": {
   "codemirror_mode": {
    "name": "ipython",
    "version": 3
   },
   "file_extension": ".py",
   "mimetype": "text/x-python",
   "name": "python",
   "nbconvert_exporter": "python",
   "pygments_lexer": "ipython3",
   "version": "3.8.2"
  },
  "pelican": {
   "authors": "Jan Novotny",
   "category": "yeah",
   "date": "2020-05-09",
   "slug": "first-post",
   "summary": "Short version for index and feeds",
   "tags": "thats, awesome",
   "title": "First post"
  }
 },
 "nbformat": 4,
 "nbformat_minor": 4
}
